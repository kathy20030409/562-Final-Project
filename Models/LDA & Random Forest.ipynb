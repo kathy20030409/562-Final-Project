{
 "cells": [
  {
   "cell_type": "code",
   "execution_count": null,
   "metadata": {
    "scrolled": true
   },
   "outputs": [],
   "source": [
    "import pandas as pd\n",
    "from sklearn.model_selection import train_test_split\n",
    "from sklearn.discriminant_analysis import LinearDiscriminantAnalysis\n",
    "from sklearn.linear_model import LogisticRegressionCV\n",
    "from sklearn.metrics import accuracy_score, confusion_matrix, classification_report\n",
    "from statsmodels.stats.contingency_tables import mcnemar\n",
    "from sklearn.datasets import load_iris\n",
    "from sklearn.ensemble import RandomForestClassifier\n",
    "from sklearn.metrics import accuracy_score\n",
    "from sklearn.metrics import recall_score"
   ]
  },
  {
   "cell_type": "code",
   "execution_count": null,
   "metadata": {},
   "outputs": [],
   "source": [
    "df = pd.read_csv('Desktop/heart_2020_cleaned.csv')\n",
    "X = df.drop('HeartDisease', axis=1)\n",
    "y = df['HeartDisease']\n",
    "\n",
    "X_train, X_test, y_train, y_test = train_test_split(X, y, test_size=0.2, random_state=42)"
   ]
  },
  {
   "cell_type": "code",
   "execution_count": null,
   "metadata": {},
   "outputs": [],
   "source": [
    "# LDA\n",
    "lda = LinearDiscriminantAnalysis()\n",
    "lda.fit(X_train, y_train)\n",
    "y_pred_lda = lda.predict(X_test)\n",
    "\n",
    "# Logistic Regression with Cross-Validation\n",
    "logreg = LogisticRegressionCV(cv=5)\n",
    "logreg.fit(X_train, y_train)\n",
    "y_pred_logreg = logreg.predict(X_test)\n",
    "\n",
    "#Confusion matrices\n",
    "conf_matrix_lda = confusion_matrix(y_test, y_pred_lda)\n",
    "conf_matrix_logreg = confusion_matrix(y_test, y_pred_logreg)\n",
    "\n",
    "#Accuracy\n",
    "accuracy_lda = accuracy_score(y_test, y_pred_lda)\n",
    "accuracy_logreg = accuracy_score(y_test, y_pred_logreg)\n",
    "\n",
    "#Classification reports\n",
    "report_lda = classification_report(y_test, y_pred_lda, output_dict=True)\n",
    "report_logreg = classification_report(y_test, y_pred_logreg, output_dict=True)\n",
    "\n",
    "#McNemar's test\n",
    "table = [[(y_pred_lda == y_test) & (y_pred_logreg == y_test), (y_pred_lda != y_test) & (y_pred_logreg == y_test)],\n",
    "        [(y_pred_lda == y_test) & (y_pred_logreg != y_test), (y_pred_lda != y_test) & (y_pred_logreg != y_test)]]\n",
    "mcnemar_result = mcnemar(table, exact=True)\n",
    "\n",
    "# Print results\n",
    "print(f\"LDA Confusion Matrix:\\n{conf_matrix_lda}\")\n",
    "print(f\"Logistic Regression Confusion Matrix:\\n{conf_matrix_logreg}\")\n",
    "print(f\"LDA Accuracy: {accuracy_lda}\")\n",
    "print(f\"Logistic Regression Accuracy: {accuracy_logreg}\")\n",
    "print(f\"LDA Report: {report_lda}\")\n",
    "print(f\"Logistic Regression Report: {report_logreg}\")\n",
    "print(f\"McNemar's Test p-Value: {mcnemar_result.pvalue}\")"
   ]
  },
  {
   "cell_type": "code",
   "execution_count": null,
   "metadata": {},
   "outputs": [],
   "source": [
    "#L1 regularization\n",
    "lr_l1 = LogisticRegression(penalty='l1', solver='liblinear', random_state=42)\n",
    "lr_l1.fit(X_train, y_train)\n",
    "y_pred_l1 = lr_l1.predict(X_test)\n",
    "conf_matrix_l1 = confusion_matrix(y_test, y_pred_l1)\n",
    "accuracy_l1 = accuracy_score(y_test, y_pred_l1)\n",
    "report_l1 = classification_report(y_test, y_pred_l1)\n",
    "\n",
    "#L2 regularization\n",
    "lr_l2 = LogisticRegression(penalty='l2', solver='liblinear', random_state=42)\n",
    "lr_l2.fit(X_train, y_train)\n",
    "y_pred_l2 = lr_l2.predict(X_test)\n",
    "conf_matrix_l2 = confusion_matrix(y_test, y_pred_l2)\n",
    "accuracy_l2 = accuracy_score(y_test, y_pred_l2)\n",
    "report_l2 = classification_report(y_test, y_pred_l2)\n",
    "\n",
    "print(\"L1 Regularization:\")\n",
    "print(\"Confusion Matrix:\")\n",
    "print(conf_matrix_l1)\n",
    "print(f\"Accuracy: {accuracy_l1:.4f}\")\n",
    "print(\"Classification Report:\")\n",
    "print(report_l1)\n",
    "\n",
    "print(\"\\nL2 Regularization:\")\n",
    "print(\"Confusion Matrix:\")\n",
    "print(conf_matrix_l2)\n",
    "print(f\"Accuracy: {accuracy_l2:.4f}\")\n",
    "print(\"Classification Report:\")\n",
    "print(report_l2)"
   ]
  },
  {
   "cell_type": "code",
   "execution_count": null,
   "metadata": {},
   "outputs": [],
   "source": [
    "#Random Forest\n",
    "\n",
    "iris = load_iris()\n",
    "X = iris.data\n",
    "y = iris.target\n",
    "\n",
    "X_train, X_test, y_train, y_test = train_test_split(X, y, test_size=0.3, random_state=42)\n",
    "rf_classifier = RandomForestClassifier(n_estimators=100, random_state=42)\n",
    "rf_classifier.fit(X_train, y_train)\n",
    "y_pred = rf_classifier.predict(X_test)\n",
    "\n",
    "accuracy = accuracy_score(y_test, y_pred)\n",
    "print(\"Accuracy:\", accuracy)\n",
    "\n",
    "sensitivity = recall_score(y_test, y_pred, average='weighted')\n",
    "print(\"Sensitivity:\", sensitivity)"
   ]
  }
 ],
 "metadata": {
  "anaconda-cloud": {},
  "kernelspec": {
   "display_name": "Python 3",
   "language": "python",
   "name": "python3"
  },
  "language_info": {
   "codemirror_mode": {
    "name": "ipython",
    "version": 3
   },
   "file_extension": ".py",
   "mimetype": "text/x-python",
   "name": "python",
   "nbconvert_exporter": "python",
   "pygments_lexer": "ipython3",
   "version": "3.9.6"
  }
 },
 "nbformat": 4,
 "nbformat_minor": 1
}
